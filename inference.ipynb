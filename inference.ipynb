{
 "cells": [
  {
   "cell_type": "code",
   "execution_count": 1,
   "id": "245e3035",
   "metadata": {
    "scrolled": true
   },
   "outputs": [],
   "source": [
    "import torch\n",
    "from src.models import MLP\n",
    "device = torch.device('cuda' if torch.cuda.is_available() else 'cpu')\n",
    "model = MLP()"
   ]
  },
  {
   "cell_type": "code",
   "execution_count": 2,
   "id": "c2a94bb0",
   "metadata": {},
   "outputs": [
    {
     "data": {
      "text/plain": [
       "<All keys matched successfully>"
      ]
     },
     "execution_count": 2,
     "metadata": {},
     "output_type": "execute_result"
    }
   ],
   "source": [
    "model.load_state_dict(torch.load('./best.pth')['model'])"
   ]
  },
  {
   "cell_type": "code",
   "execution_count": 3,
   "id": "04c396fd",
   "metadata": {},
   "outputs": [],
   "source": [
    "import pandas as pd\n",
    "import numpy as np\n",
    "test_chunk = pd.read_csv('./data/test.csv', chunksize=1000000)"
   ]
  },
  {
   "cell_type": "code",
   "execution_count": 4,
   "id": "df562b67",
   "metadata": {},
   "outputs": [],
   "source": [
    "drop_lits = ['site_id', 'device_id', 'device_ip', 'C14', 'C17', 'C21']"
   ]
  },
  {
   "cell_type": "code",
   "execution_count": 5,
   "id": "952980e4",
   "metadata": {
    "scrolled": true
   },
   "outputs": [],
   "source": [
    "ids = []\n",
    "clicks = []\n",
    "for test in test_chunk:\n",
    "    test = test.reset_index(drop=True)\n",
    "    ids = ids + test['id'].to_list()\n",
    "    test.drop('id', axis=1, inplace=True)\n",
    "#     test.drop(drop_lits, axis=1, inplace=True)\n",
    "#     columns = test.columns\n",
    "#     for i, column in enumerate(columns):\n",
    "#         test = pd.concat([test.drop([column], axis=1), pd.DataFrame(np.eye(ohe_list[i]+1)[test[column].astype('int').to_list()])], axis=1)\n",
    "    test = torch.from_numpy(test.to_numpy())\n",
    "    test = test.float()\n",
    "    with torch.no_grad():\n",
    "        for inputs in test:\n",
    "            y = model(inputs.unsqueeze(0))\n",
    "            clicks.append(round(y[0].item(), 5))"
   ]
  },
  {
   "cell_type": "code",
   "execution_count": 6,
   "id": "17bde74c",
   "metadata": {
    "scrolled": true
   },
   "outputs": [],
   "source": [
    "dtype={'id': np.dtype(int),\n",
    "    'click': np.dtype(float),\n",
    "      }\n",
    "submit = pd.read_csv(\"../sampleSubmission.gz\", dtype=dtype)"
   ]
  },
  {
   "cell_type": "code",
   "execution_count": 7,
   "id": "3332bde4",
   "metadata": {},
   "outputs": [],
   "source": [
    "submit['click'] = clicks"
   ]
  },
  {
   "cell_type": "code",
   "execution_count": 8,
   "id": "4c342d0e",
   "metadata": {},
   "outputs": [],
   "source": [
    "submit.to_csv('answer.csv', index=False)"
   ]
  },
  {
   "cell_type": "code",
   "execution_count": 9,
   "id": "940bbbfc",
   "metadata": {},
   "outputs": [
    {
     "data": {
      "text/plain": [
       "0.18799391388893127"
      ]
     },
     "execution_count": 9,
     "metadata": {},
     "output_type": "execute_result"
    }
   ],
   "source": [
    "max(y[0]).item()"
   ]
  },
  {
   "cell_type": "code",
   "execution_count": null,
   "id": "49f15642",
   "metadata": {},
   "outputs": [],
   "source": []
  }
 ],
 "metadata": {
  "kernelspec": {
   "display_name": "Python 3 (ipykernel)",
   "language": "python",
   "name": "python3"
  },
  "language_info": {
   "codemirror_mode": {
    "name": "ipython",
    "version": 3
   },
   "file_extension": ".py",
   "mimetype": "text/x-python",
   "name": "python",
   "nbconvert_exporter": "python",
   "pygments_lexer": "ipython3",
   "version": "3.9.7"
  }
 },
 "nbformat": 4,
 "nbformat_minor": 5
}
