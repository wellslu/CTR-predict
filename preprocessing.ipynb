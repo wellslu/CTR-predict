{
 "cells": [
  {
   "cell_type": "markdown",
   "id": "c49e228f",
   "metadata": {},
   "source": [
    "check each column values is same"
   ]
  },
  {
   "cell_type": "code",
   "execution_count": 1,
   "id": "4fab55a6",
   "metadata": {},
   "outputs": [],
   "source": [
    "import pandas as pd\n",
    "import numpy as np\n",
    "\n",
    "test = pd.read_csv(\"./test.gz\")\n",
    "\n",
    "train = pd.read_csv(\"train.gz\", chunksize=5000000)\n",
    "sample = pd.DataFrame()\n",
    "for s in train:\n",
    "    sample = pd.concat([sample, s])"
   ]
  },
  {
   "cell_type": "code",
   "execution_count": 2,
   "id": "2b717744",
   "metadata": {},
   "outputs": [
    {
     "data": {
      "text/plain": [
       "id                  0\n",
       "click               0\n",
       "hour                0\n",
       "C1                  0\n",
       "banner_pos          0\n",
       "site_id             0\n",
       "site_domain         0\n",
       "site_category       0\n",
       "app_id              0\n",
       "app_domain          0\n",
       "app_category        0\n",
       "device_id           0\n",
       "device_ip           0\n",
       "device_model        0\n",
       "device_type         0\n",
       "device_conn_type    0\n",
       "C14                 0\n",
       "C15                 0\n",
       "C16                 0\n",
       "C17                 0\n",
       "C18                 0\n",
       "C19                 0\n",
       "C20                 0\n",
       "C21                 0\n",
       "dtype: int64"
      ]
     },
     "execution_count": 2,
     "metadata": {},
     "output_type": "execute_result"
    }
   ],
   "source": [
    "sample.isna().sum()"
   ]
  },
  {
   "cell_type": "code",
   "execution_count": 3,
   "id": "16198d73",
   "metadata": {},
   "outputs": [
    {
     "data": {
      "text/plain": [
       "0    33563901\n",
       "1     6865066\n",
       "Name: click, dtype: int64"
      ]
     },
     "execution_count": 3,
     "metadata": {},
     "output_type": "execute_result"
    }
   ],
   "source": [
    "sample.click.value_counts()"
   ]
  },
  {
   "cell_type": "code",
   "execution_count": 4,
   "id": "52f9b6fe",
   "metadata": {},
   "outputs": [],
   "source": [
    "diff_value_list = []\n",
    "for column in sample.columns[3:]:\n",
    "    diff = list(set(test[column].to_list()).difference(set(sample[column].to_list())))\n",
    "    if len(test[test[column].isin(diff)]) > len(test)*0.01:\n",
    "        diff_value_list.append(column)"
   ]
  },
  {
   "cell_type": "code",
   "execution_count": 5,
   "id": "f5c814cb",
   "metadata": {},
   "outputs": [
    {
     "data": {
      "text/plain": [
       "['site_id', 'device_id', 'device_ip', 'C14', 'C17', 'C21']"
      ]
     },
     "execution_count": 5,
     "metadata": {},
     "output_type": "execute_result"
    }
   ],
   "source": [
    "diff_value_list"
   ]
  },
  {
   "cell_type": "markdown",
   "id": "7e89b54e",
   "metadata": {},
   "source": [
    "dim > 10 transfer to dim == 5"
   ]
  },
  {
   "cell_type": "code",
   "execution_count": 1,
   "id": "49a31058",
   "metadata": {},
   "outputs": [],
   "source": [
    "import pandas as pd\n",
    "import numpy as np\n",
    "from matplotlib import pyplot as plt\n",
    "import seaborn as sns"
   ]
  },
  {
   "cell_type": "code",
   "execution_count": 2,
   "id": "9726903d",
   "metadata": {},
   "outputs": [],
   "source": [
    "test = pd.read_csv(\"./test.gz\")\n",
    "\n",
    "train = pd.read_csv(\"train.gz\", chunksize=5000000)\n",
    "sample = pd.DataFrame()\n",
    "for s in train:\n",
    "    sample = pd.concat([sample, s])"
   ]
  },
  {
   "cell_type": "code",
   "execution_count": 3,
   "id": "8ba9d93d",
   "metadata": {},
   "outputs": [],
   "source": [
    "diff_value_list = ['site_id', 'device_id', 'device_ip', 'C14', 'C17', 'C21']"
   ]
  },
  {
   "cell_type": "code",
   "execution_count": 4,
   "id": "44fa1038",
   "metadata": {},
   "outputs": [],
   "source": [
    "sample.drop('id', axis=1, inplace=True)\n",
    "sample.drop(diff_value_list, axis=1, inplace=True)\n",
    "test.drop(diff_value_list, axis=1, inplace=True)"
   ]
  },
  {
   "cell_type": "code",
   "execution_count": 5,
   "id": "8729694c",
   "metadata": {
    "scrolled": true
   },
   "outputs": [],
   "source": [
    "sample['hour'] = sample['hour'].apply(lambda x: int(int(str(x)[-2:])/2))\n",
    "test['hour'] = test['hour'].apply(lambda x: int(int(str(x)[-2:])/2))"
   ]
  },
  {
   "cell_type": "code",
   "execution_count": 6,
   "id": "66d0de94",
   "metadata": {},
   "outputs": [
    {
     "name": "stdout",
     "output_type": "stream",
     "text": [
      "C1  :  7\n",
      "banner_pos  :  7\n",
      "site_domain  :  7745\n",
      "site_category  :  26\n",
      "app_id  :  8552\n",
      "app_domain  :  559\n",
      "app_category  :  36\n",
      "device_model  :  8251\n",
      "device_type  :  5\n",
      "device_conn_type  :  4\n",
      "C15  :  8\n",
      "C16  :  9\n",
      "C18  :  4\n",
      "C19  :  68\n",
      "C20  :  172\n"
     ]
    }
   ],
   "source": [
    "transfer_list = []\n",
    "for column in sample.columns[2:]:\n",
    "    length = len(set(sample[column].to_list()))\n",
    "    if length >= 10:\n",
    "        transfer_list.append(column)\n",
    "    print(column, ' : ', length)"
   ]
  },
  {
   "cell_type": "code",
   "execution_count": 7,
   "id": "b831f135",
   "metadata": {},
   "outputs": [],
   "source": [
    "mean = sample['click'].describe()['mean']"
   ]
  },
  {
   "cell_type": "code",
   "execution_count": 8,
   "id": "08374a31",
   "metadata": {},
   "outputs": [],
   "source": [
    "def transfer(df, col, mean, df_t):\n",
    "    d = df.groupby([col])['click'].agg('mean').to_dict()\n",
    "    for key in d.keys():\n",
    "        if d[key] < mean-0.09:\n",
    "            d[key] = 1\n",
    "        elif mean-0.09 <= d[key] < mean-0.07:\n",
    "            d[key] = 2\n",
    "        elif mean-0.07 <= d[key] < mean-0.05:\n",
    "            d[key] = 3\n",
    "        elif mean-0.05 <= d[key] < mean-0.03:\n",
    "            d[key] = 4\n",
    "        elif mean-0.03 <= d[key] < mean-0.01:\n",
    "            d[key] = 5\n",
    "        elif mean-0.01 <= d[key] < mean+0.01:\n",
    "            d[key] = 6\n",
    "        elif mean+0.01 <= d[key] < mean+0.03:\n",
    "            d[key] = 7\n",
    "        elif mean+0.03 <= d[key] < mean+0.05:\n",
    "            d[key] = 8\n",
    "        elif mean+0.05 <= d[key] < mean+0.07:\n",
    "            d[key] = 9\n",
    "        elif mean+0.07 <= d[key] < mean+0.09:\n",
    "            d[key] = 10\n",
    "        else:\n",
    "            d[key] = 11\n",
    "    df[col] = df[col].apply(lambda x: d[x])\n",
    "    df_t[col] = df_t[col].apply(lambda x: d[x] if x in d.keys() else 6)\n",
    "    return df, df_t"
   ]
  },
  {
   "cell_type": "code",
   "execution_count": 9,
   "id": "4afb15b8",
   "metadata": {},
   "outputs": [],
   "source": [
    "for col in transfer_list:\n",
    "    sample, test = transfer(sample, col, mean, test)"
   ]
  },
  {
   "cell_type": "code",
   "execution_count": 10,
   "id": "8a8dd7ac",
   "metadata": {},
   "outputs": [],
   "source": [
    "def standardization(df, col, df_t):\n",
    "    a_dictionary = df.groupby([col])['click'].agg('count').to_dict()\n",
    "    max_key = max(a_dictionary, key=a_dictionary.get)\n",
    "    d = {}\n",
    "    num = 1\n",
    "    for v in set(df[col]):\n",
    "        d[v] = num\n",
    "        num+=1\n",
    "    df[col] = df[col].apply(lambda x: d[x])\n",
    "    df_t[col] = df_t[col].apply(lambda x: d[x] if x in d.keys() else 0)\n",
    "    return df, df_t"
   ]
  },
  {
   "cell_type": "code",
   "execution_count": 11,
   "id": "62c83b71",
   "metadata": {},
   "outputs": [],
   "source": [
    "standard_list = set(sample.columns[1:].to_list()).difference(set(transfer_list))"
   ]
  },
  {
   "cell_type": "code",
   "execution_count": 12,
   "id": "a9ced1aa",
   "metadata": {},
   "outputs": [],
   "source": [
    "for col in standard_list:\n",
    "    sample, test = standardization(sample, col, test)"
   ]
  },
  {
   "cell_type": "code",
   "execution_count": 13,
   "id": "b6c97fd1",
   "metadata": {},
   "outputs": [],
   "source": [
    "sample.to_csv('./data/train.csv', index=False)\n",
    "test.to_csv('./data/test.csv', index=False)"
   ]
  },
  {
   "cell_type": "code",
   "execution_count": 13,
   "id": "ddf6d06a",
   "metadata": {
    "scrolled": true
   },
   "outputs": [
    {
     "data": {
      "image/png": "[encoded data removed]",
      "text/plain": [
       "<Figure size 432x288 with 1 Axes>"
      ]
     },
     "metadata": {
      "needs_background": "light"
     },
     "output_type": "display_data"
    },
    {
     "data": {
      "image/png": "[encoded data removed]",
      "text/plain": [
       "<Figure size 432x288 with 1 Axes>"
      ]
     },
     "metadata": {
      "needs_background": "light"
     },
     "output_type": "display_data"
    },
    {
     "data": {
      "image/png": "[encoded data removed]",
      "text/plain": [
       "<Figure size 432x288 with 1 Axes>"
      ]
     },
     "metadata": {
      "needs_background": "light"
     },
     "output_type": "display_data"
    },
    {
     "data": {
      "image/png": "[encoded data removed]",
      "text/plain": [
       "<Figure size 432x288 with 1 Axes>"
      ]
     },
     "metadata": {
      "needs_background": "light"
     },
     "output_type": "display_data"
    },
    {
     "data": {
      "image/png": "[encoded data removed]",
      "text/plain": [
       "<Figure size 432x288 with 1 Axes>"
      ]
     },
     "metadata": {
      "needs_background": "light"
     },
     "output_type": "display_data"
    },
    {
     "data": {
      "image/png": "[encoded data removed]",
      "text/plain": [
       "<Figure size 432x288 with 1 Axes>"
      ]
     },
     "metadata": {
      "needs_background": "light"
     },
     "output_type": "display_data"
    },
    {
     "data": {
      "image/png": "[encoded data removed]",
      "text/plain": [
       "<Figure size 432x288 with 1 Axes>"
      ]
     },
     "metadata": {
      "needs_background": "light"
     },
     "output_type": "display_data"
    },
    {
     "data": {
      "image/png": "[encoded data removed]",
      "text/plain": [
       "<Figure size 432x288 with 1 Axes>"
      ]
     },
     "metadata": {
      "needs_background": "light"
     },
     "output_type": "display_data"
    },
    {
     "data": {
      "image/png": "[encoded data removed]",
      "text/plain": [
       "<Figure size 432x288 with 1 Axes>"
      ]
     },
     "metadata": {
      "needs_background": "light"
     },
     "output_type": "display_data"
    },
    {
     "data": {
      "image/png": "[encoded data removed]",
      "text/plain": [
       "<Figure size 432x288 with 1 Axes>"
      ]
     },
     "metadata": {
      "needs_background": "light"
     },
     "output_type": "display_data"
    },
    {
     "data": {
      "image/png": "[encoded data removed]",
      "text/plain": [
       "<Figure size 432x288 with 1 Axes>"
      ]
     },
     "metadata": {
      "needs_background": "light"
     },
     "output_type": "display_data"
    },
    {
     "data": {
      "image/png": "[encoded data removed]",
      "text/plain": [
       "<Figure size 432x288 with 1 Axes>"
      ]
     },
     "metadata": {
      "needs_background": "light"
     },
     "output_type": "display_data"
    },
    {
     "data": {
      "image/png": "[encoded data removed]",
      "text/plain": [
       "<Figure size 432x288 with 1 Axes>"
      ]
     },
     "metadata": {
      "needs_background": "light"
     },
     "output_type": "display_data"
    },
    {
     "data": {
      "image/png": "[encoded data removed]",
      "text/plain": [
       "<Figure size 432x288 with 1 Axes>"
      ]
     },
     "metadata": {
      "needs_background": "light"
     },
     "output_type": "display_data"
    },
    {
     "data": {
      "image/png": "[encoded data removed]",
      "text/plain": [
       "<Figure size 432x288 with 1 Axes>"
      ]
     },
     "metadata": {
      "needs_background": "light"
     },
     "output_type": "display_data"
    },
    {
     "data": {
      "image/png": "[encoded data removed]",
      "text/plain": [
       "<Figure size 432x288 with 1 Axes>"
      ]
     },
     "metadata": {
      "needs_background": "light"
     },
     "output_type": "display_data"
    },
    {
     "data": {
      "image/png": "[encoded data removed]",
      "text/plain": [
       "<Figure size 432x288 with 1 Axes>"
      ]
     },
     "metadata": {
      "needs_background": "light"
     },
     "output_type": "display_data"
    }
   ],
   "source": [
    "for col in sample.columns:\n",
    "    sns.countplot(x = col, hue = \"click\", data = sample)\n",
    "    plt.show()"
   ]
  },
  {
   "cell_type": "code",
   "execution_count": 2,
   "id": "ef4c34ea",
   "metadata": {},
   "outputs": [],
   "source": [
    "sample = pd.read_csv('train.csv')"
   ]
  },
  {
   "cell_type": "code",
   "execution_count": 14,
   "id": "d7cb0a04",
   "metadata": {},
   "outputs": [],
   "source": [
    "sample = sample.sample(frac=1).reset_index(drop=True)\n",
    "sample[:int(len(sample)*0.2)].to_csv('./data/validation.csv', index=False)\n",
    "sample[int(len(sample)*0.2):].to_csv('./data/train.csv', index=False)"
   ]
  },
  {
   "cell_type": "code",
   "execution_count": null,
   "id": "318a5a6e",
   "metadata": {},
   "outputs": [],
   "source": []
  },
  {
   "cell_type": "code",
   "execution_count": null,
   "id": "d265757b",
   "metadata": {},
   "outputs": [],
   "source": []
  },
  {
   "cell_type": "code",
   "execution_count": null,
   "id": "31d9996c",
   "metadata": {},
   "outputs": [],
   "source": []
  },
  {
   "cell_type": "code",
   "execution_count": null,
   "id": "f383ae6b",
   "metadata": {},
   "outputs": [],
   "source": []
  },
  {
   "cell_type": "code",
   "execution_count": null,
   "id": "8e1da7d7",
   "metadata": {},
   "outputs": [],
   "source": []
  },
  {
   "cell_type": "code",
   "execution_count": null,
   "id": "eec858bb",
   "metadata": {},
   "outputs": [],
   "source": []
  },
  {
   "cell_type": "code",
   "execution_count": null,
   "id": "7301600d",
   "metadata": {},
   "outputs": [],
   "source": []
  },
  {
   "cell_type": "code",
   "execution_count": null,
   "id": "03e79404",
   "metadata": {},
   "outputs": [],
   "source": []
  },
  {
   "cell_type": "code",
   "execution_count": 1,
   "id": "a7e4d1c5",
   "metadata": {},
   "outputs": [],
   "source": [
    "import pandas as pd\n",
    "import numpy as np"
   ]
  },
  {
   "cell_type": "code",
   "execution_count": 2,
   "id": "fb40bfc4",
   "metadata": {},
   "outputs": [],
   "source": [
    "transfer_list = ['site_id', 'site_domain', 'site_category', 'app_id', 'app_domain', 'app_category', 'device_id', 'device_ip', 'device_model', 'C14', 'C17', 'C19', 'C20', 'C21']"
   ]
  },
  {
   "cell_type": "code",
   "execution_count": 3,
   "id": "95cb8918",
   "metadata": {},
   "outputs": [],
   "source": [
    "all_data = pd.concat([pd.read_csv(\"train.csv\"), pd.read_csv(\"validation.csv\"), pd.read_csv(\"test.csv\")], ignore_index=True)"
   ]
  },
  {
   "cell_type": "code",
   "execution_count": 4,
   "id": "e23c2074",
   "metadata": {},
   "outputs": [],
   "source": [
    "columns = all_data.columns[1:-1]\n",
    "for col in columns:\n",
    "    if col in transfer_list:\n",
    "        continue\n",
    "    all_data = pd.concat([all_data.drop(col, axis=1), pd.get_dummies(all_data[col])], axis=1)"
   ]
  },
  {
   "cell_type": "code",
   "execution_count": 5,
   "id": "b0401957",
   "metadata": {},
   "outputs": [],
   "source": [
    "all_data[all_data['id'].notnull()].drop('click', axis=1).to_csv('./data/test_hot.csv', index=False)"
   ]
  },
  {
   "cell_type": "code",
   "execution_count": 6,
   "id": "328f0045",
   "metadata": {},
   "outputs": [],
   "source": [
    "all_data = all_data[all_data['click'].notnull()].drop('id', axis=1)\n",
    "all_data = all_data.sample(frac=1).reset_index(drop=True)\n",
    "all_data[:int(len(all_data)*0.2)].to_csv('./data/validation_hot.csv', index=False)\n",
    "all_data[int(len(all_data)*0.2):].to_csv('./data/train_hot.csv', index=False)"
   ]
  },
  {
   "cell_type": "code",
   "execution_count": 7,
   "id": "f13afb24",
   "metadata": {},
   "outputs": [],
   "source": [
    "train = pd.read_csv(\"./data/train_hot.csv\", chunksize=10000000)\n",
    "for i, df in enumerate(train):\n",
    "    df.to_csv(f'./data/train_hot_{i}.csv', index=False)"
   ]
  },
  {
   "cell_type": "code",
   "execution_count": null,
   "id": "f41ce66c",
   "metadata": {},
   "outputs": [],
   "source": []
  },
  {
   "cell_type": "code",
   "execution_count": null,
   "id": "cea43917",
   "metadata": {},
   "outputs": [],
   "source": []
  },
  {
   "cell_type": "code",
   "execution_count": null,
   "id": "68c0503e",
   "metadata": {},
   "outputs": [],
   "source": []
  },
  {
   "cell_type": "code",
   "execution_count": null,
   "id": "d6759e3d",
   "metadata": {},
   "outputs": [],
   "source": []
  }
 ],
 "metadata": {
  "kernelspec": {
   "display_name": "Python 3 (ipykernel)",
   "language": "python",
   "name": "python3"
  },
  "language_info": {
   "codemirror_mode": {
    "name": "ipython",
    "version": 3
   },
   "file_extension": ".py",
   "mimetype": "text/x-python",
   "name": "python",
   "nbconvert_exporter": "python",
   "pygments_lexer": "ipython3",
   "version": "3.9.7"
  }
 },
 "nbformat": 4,
 "nbformat_minor": 5
}
